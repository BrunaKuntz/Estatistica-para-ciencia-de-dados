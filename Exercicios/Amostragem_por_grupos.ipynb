{
  "nbformat": 4,
  "nbformat_minor": 0,
  "metadata": {
    "colab": {
      "name": "Estatística IA Expert.ipynb",
      "provenance": [],
      "authorship_tag": "ABX9TyNdjY93mUPCjvEMn5LCbvic",
      "include_colab_link": true
    },
    "kernelspec": {
      "name": "python3",
      "display_name": "Python 3"
    },
    "language_info": {
      "name": "python"
    }
  },
  "cells": [
    {
      "cell_type": "markdown",
      "metadata": {
        "id": "view-in-github",
        "colab_type": "text"
      },
      "source": [
        "<a href=\"https://colab.research.google.com/github/BrunaKuntz/Estatistica-para-ciencia-de-dados/blob/main/Exercicios/Amostragem_por_grupos.ipynb\" target=\"_parent\"><img src=\"https://colab.research.google.com/assets/colab-badge.svg\" alt=\"Open In Colab\"/></a>"
      ]
    },
    {
      "cell_type": "markdown",
      "metadata": {
        "id": "KlU0P5s6Nk8_"
      },
      "source": [
        "#Amostragem"
      ]
    },
    {
      "cell_type": "markdown",
      "metadata": {
        "id": "_wgPcJL-OoP4"
      },
      "source": [
        "##Carregamento da base de dados\n"
      ]
    },
    {
      "cell_type": "code",
      "metadata": {
        "id": "_iR46JDDM1KC"
      },
      "source": [
        "import pandas as pd\n",
        "import random\n",
        "import numpy as np\n"
      ],
      "execution_count": 1,
      "outputs": []
    },
    {
      "cell_type": "code",
      "metadata": {
        "id": "arjruxBzOwsE"
      },
      "source": [
        "dataset = pd.read_csv('census.csv')"
      ],
      "execution_count": 2,
      "outputs": []
    },
    {
      "cell_type": "code",
      "metadata": {
        "id": "ke02yk0VKp1e"
      },
      "source": [
        "from google.colab import drive\n",
        "drive.mount('/content/drive')"
      ],
      "execution_count": null,
      "outputs": []
    },
    {
      "cell_type": "code",
      "metadata": {
        "id": "CD-QNp6HO60Y"
      },
      "source": [
        "dataset.shape\n",
        "print(dataset.shape, 'linhas, colunas')"
      ],
      "execution_count": null,
      "outputs": []
    },
    {
      "cell_type": "code",
      "metadata": {
        "id": "nj_6eszGCqal"
      },
      "source": [
        "dataset.head()"
      ],
      "execution_count": null,
      "outputs": []
    },
    {
      "cell_type": "code",
      "metadata": {
        "id": "kfGl3-a2Dhdu"
      },
      "source": [
        "dataset.tail()"
      ],
      "execution_count": null,
      "outputs": []
    },
    {
      "cell_type": "markdown",
      "metadata": {
        "id": "HR4UH8bMKMj8"
      },
      "source": [
        "##Amostragem por grupo"
      ]
    },
    {
      "cell_type": "code",
      "metadata": {
        "id": "d4Ca2wjX-lGN"
      },
      "source": [
        "len(dataset) // 10"
      ],
      "execution_count": null,
      "outputs": []
    },
    {
      "cell_type": "code",
      "metadata": {
        "id": "tnPfyjOw-4qI"
      },
      "source": [
        "grupos = []\n",
        "id_grupo = 0\n",
        "contagem = 0\n",
        "for _ in dataset.iterrows():\n",
        "  grupos.append(id_grupo)\n",
        "  contagem += 1\n",
        "  if contagem > 3256:\n",
        "    contagem = 0\n",
        "    id_grupo += 1"
      ],
      "execution_count": 8,
      "outputs": []
    },
    {
      "cell_type": "code",
      "metadata": {
        "id": "zqxXtD6j_ymk"
      },
      "source": [
        "print (grupos)"
      ],
      "execution_count": null,
      "outputs": []
    },
    {
      "cell_type": "code",
      "metadata": {
        "id": "A_t7KlSu_-Lp"
      },
      "source": [
        "np.unique(grupos, return_counts= True)"
      ],
      "execution_count": null,
      "outputs": []
    },
    {
      "cell_type": "code",
      "metadata": {
        "id": "nr-1dqtdA7YB"
      },
      "source": [
        "np.shape(grupos), dataset.shape"
      ],
      "execution_count": null,
      "outputs": []
    },
    {
      "cell_type": "code",
      "metadata": {
        "id": "9zXC7L49BPW-"
      },
      "source": [
        "dataset['grupo'] = grupos"
      ],
      "execution_count": 18,
      "outputs": []
    },
    {
      "cell_type": "code",
      "metadata": {
        "id": "3-PIbyWGBXIG"
      },
      "source": [
        "dataset.head()"
      ],
      "execution_count": null,
      "outputs": []
    },
    {
      "cell_type": "code",
      "metadata": {
        "id": "uIP5zJAOBhAW"
      },
      "source": [
        "dataset.tail()"
      ],
      "execution_count": null,
      "outputs": []
    },
    {
      "cell_type": "code",
      "metadata": {
        "id": "8WHEKpIXBqjn"
      },
      "source": [
        "random.randint(0, 9)"
      ],
      "execution_count": null,
      "outputs": []
    },
    {
      "cell_type": "code",
      "metadata": {
        "id": "OlM5miUQCoe0"
      },
      "source": [
        "df_agrupamento = dataset[dataset['grupo'] == 5]\n",
        "df_agrupamento.shape"
      ],
      "execution_count": null,
      "outputs": []
    },
    {
      "cell_type": "code",
      "metadata": {
        "id": "15EEqpK0DGjU"
      },
      "source": [
        "df_agrupamento['grupo'].value_counts()"
      ],
      "execution_count": null,
      "outputs": []
    },
    {
      "cell_type": "code",
      "metadata": {
        "id": "dbzs5He2DV7b"
      },
      "source": [
        "def amostragem_agrupamento(dataset, numero_grupos):\n",
        "  intervalo = len(dataset) / numero_grupos\n",
        "\n",
        "  grupos = []\n",
        "  id_grupo = 0\n",
        "  contagem = 0\n",
        "  for _ in dataset.iterrows():\n",
        "    grupos.append(id_grupo)\n",
        "    contagem += 1\n",
        "    if contagem > intervalo:\n",
        "      contagem = 0\n",
        "      id_grupo += 1\n",
        "\n",
        "  dataset['grupo'] = grupos\n",
        "  random.seed(1)\n",
        "  grupo_selecionado = random.randint(0, numero_grupos)\n",
        "  return dataset[dataset['grupo'] == grupo_selecionado]"
      ],
      "execution_count": 39,
      "outputs": []
    },
    {
      "cell_type": "code",
      "metadata": {
        "id": "0zngJEl2EiET"
      },
      "source": [
        "df_amostra_agrupamento = amostragem_agrupamento (dataset, 325)\n",
        "df_amostra_agrupamento.shape, df_amostra_agrupamento['grupo'].value_counts()"
      ],
      "execution_count": null,
      "outputs": []
    },
    {
      "cell_type": "code",
      "metadata": {
        "id": "LTGhTYC6GUwo"
      },
      "source": [
        "df_amostra_agrupamento.head()"
      ],
      "execution_count": null,
      "outputs": []
    }
  ]
}