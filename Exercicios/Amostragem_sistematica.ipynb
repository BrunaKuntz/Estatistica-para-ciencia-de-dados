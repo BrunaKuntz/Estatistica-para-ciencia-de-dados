{
  "nbformat": 4,
  "nbformat_minor": 0,
  "metadata": {
    "colab": {
      "name": "Estatística IA Expert.ipynb",
      "provenance": [],
      "toc_visible": true,
      "authorship_tag": "ABX9TyOjm6eJAwWO+kJTvd3BHhzD",
      "include_colab_link": true
    },
    "kernelspec": {
      "name": "python3",
      "display_name": "Python 3"
    },
    "language_info": {
      "name": "python"
    }
  },
  "cells": [
    {
      "cell_type": "markdown",
      "metadata": {
        "id": "view-in-github",
        "colab_type": "text"
      },
      "source": [
        "<a href=\"https://colab.research.google.com/github/BrunaKuntz/Estatistica-para-ciencia-de-dados/blob/main/Exercicios/Amostragem_sistematica.ipynb\" target=\"_parent\"><img src=\"https://colab.research.google.com/assets/colab-badge.svg\" alt=\"Open In Colab\"/></a>"
      ]
    },
    {
      "cell_type": "markdown",
      "metadata": {
        "id": "KlU0P5s6Nk8_"
      },
      "source": [
        "#Amostragem"
      ]
    },
    {
      "cell_type": "markdown",
      "metadata": {
        "id": "_wgPcJL-OoP4"
      },
      "source": [
        "##Carregamento da base de dados\n"
      ]
    },
    {
      "cell_type": "code",
      "metadata": {
        "id": "_iR46JDDM1KC"
      },
      "source": [
        "import pandas as pd\n",
        "import random\n",
        "import numpy as np\n"
      ],
      "execution_count": 3,
      "outputs": []
    },
    {
      "cell_type": "code",
      "metadata": {
        "id": "arjruxBzOwsE"
      },
      "source": [
        "dataset = pd.read_csv('census.csv')"
      ],
      "execution_count": 5,
      "outputs": []
    },
    {
      "cell_type": "code",
      "metadata": {
        "id": "CD-QNp6HO60Y"
      },
      "source": [
        "dataset.shape\n",
        "print(dataset.shape, 'linhas, colunas')"
      ],
      "execution_count": null,
      "outputs": []
    },
    {
      "cell_type": "code",
      "metadata": {
        "id": "nj_6eszGCqal"
      },
      "source": [
        "dataset.head()"
      ],
      "execution_count": null,
      "outputs": []
    },
    {
      "cell_type": "code",
      "metadata": {
        "id": "kfGl3-a2Dhdu"
      },
      "source": [
        "dataset.tail()"
      ],
      "execution_count": null,
      "outputs": []
    },
    {
      "cell_type": "markdown",
      "metadata": {
        "id": "zT4flgGcDreq"
      },
      "source": [
        "##Amostragem Aleatória Simples"
      ]
    },
    {
      "cell_type": "code",
      "metadata": {
        "id": "45RuC7zbD0u2"
      },
      "source": [
        "df_amostra_aleatoria_simples = dataset.sample(n = 100, random_state=1) #o random state mantém os mesmos números"
      ],
      "execution_count": 35,
      "outputs": []
    },
    {
      "cell_type": "code",
      "metadata": {
        "id": "V5LQbwR2EOCg"
      },
      "source": [
        "df_amostra_aleatoria_simples.shape"
      ],
      "execution_count": null,
      "outputs": []
    },
    {
      "cell_type": "code",
      "metadata": {
        "id": "X37c4JczEWit"
      },
      "source": [
        "df_amostra_aleatoria_simples.head()"
      ],
      "execution_count": null,
      "outputs": []
    },
    {
      "cell_type": "code",
      "metadata": {
        "id": "rMvaOXVIFh9j"
      },
      "source": [
        "def amostragem_aleatoria_simples(dataset, amostras):\n",
        "  return dataset.sample(n = amostras)"
      ],
      "execution_count": 28,
      "outputs": []
    },
    {
      "cell_type": "code",
      "metadata": {
        "id": "ONgCm5dtF1LU"
      },
      "source": [
        "df_amostra_aleatoria_simples = amostragem_aleatoria_simples(dataset, 100)\n",
        "df_amostra_aleatoria_simples.shape"
      ],
      "execution_count": null,
      "outputs": []
    },
    {
      "cell_type": "code",
      "metadata": {
        "id": "4Tv851Y9Gitb"
      },
      "source": [
        "df_amostra_aleatoria_simples.head()"
      ],
      "execution_count": null,
      "outputs": []
    },
    {
      "cell_type": "markdown",
      "metadata": {
        "id": "fzxCaw7TJ6VO"
      },
      "source": [
        "## Amostragem sistemática"
      ]
    },
    {
      "cell_type": "code",
      "metadata": {
        "id": "N7QktAjAJ_zS"
      },
      "source": [
        "dataset.shape"
      ],
      "execution_count": null,
      "outputs": []
    },
    {
      "cell_type": "code",
      "metadata": {
        "id": "lQbI0WzOKO2A"
      },
      "source": [
        "len(dataset) // 100"
      ],
      "execution_count": null,
      "outputs": []
    },
    {
      "cell_type": "code",
      "metadata": {
        "id": "B3njkejaKlPC"
      },
      "source": [
        "random.seed(1)\n",
        "random.randint(0,85)"
      ],
      "execution_count": null,
      "outputs": []
    },
    {
      "cell_type": "code",
      "metadata": {
        "id": "dQ_D4kLVLiDm"
      },
      "source": [
        "np.arange(17, len(dataset), step = 85)"
      ],
      "execution_count": null,
      "outputs": []
    },
    {
      "cell_type": "code",
      "metadata": {
        "id": "NzCzTpGHMAvr"
      },
      "source": [
        "def amostragem_sistematica(dataset, amostras):\n",
        "  intervalo = len(dataset) // amostras\n",
        "  random.seed(1)\n",
        "  inicio = random.randint(0, intervalo)\n",
        "  indices = np.arange(inicio, len(dataset), step = intervalo)\n",
        "  amostra_sistematica = dataset.iloc[indices]\n",
        "  return amostra_sistematica"
      ],
      "execution_count": 71,
      "outputs": []
    },
    {
      "cell_type": "code",
      "metadata": {
        "id": "6KdZFzVpN4uI"
      },
      "source": [
        "df_amostra_sistematica = amostragem_sistematica(dataset, 100)\n",
        "df_amostra_sistematica.shape"
      ],
      "execution_count": null,
      "outputs": []
    },
    {
      "cell_type": "code",
      "metadata": {
        "id": "qZZfVJKJP_ZF"
      },
      "source": [
        "df_amostra_sistematica.head()"
      ],
      "execution_count": null,
      "outputs": []
    }
  ]
}